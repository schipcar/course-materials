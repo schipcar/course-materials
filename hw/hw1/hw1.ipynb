{
  "nbformat": 4,
  "nbformat_minor": 0,
  "metadata": {
    "colab": {
      "name": "a1.ipynb",
      "provenance": [],
      "collapsed_sections": []
    },
    "kernelspec": {
      "name": "python3",
      "display_name": "Python 3"
    },
    "language_info": {
      "name": "python"
    }
  },
  "cells": [
    {
      "cell_type": "markdown",
      "source": [
        "# Assignment 1\n",
        "\n",
        "Large-Scale Computing for the Social Sciences\n",
        "\n",
        "Carly Schippits"
      ],
      "metadata": {
        "id": "9To0G77pZBuy"
      }
    },
    {
      "cell_type": "code",
      "source": [
        "import numpy as np\n",
        "import scipy.stats as sts\n",
        "import time\n",
        "from numba.pycc import CC\n",
        "import matplotlib.pyplot as plt"
      ],
      "metadata": {
        "id": "FY-UdTOaZmGV"
      },
      "execution_count": 57,
      "outputs": []
    },
    {
      "cell_type": "markdown",
      "source": [
        "## 1. a)"
      ],
      "metadata": {
        "id": "-nWt645d7JSd"
      }
    },
    {
      "cell_type": "code",
      "source": [
        "# Set model parameters\n",
        "rho = 0.5\n",
        "mu = 3.0\n",
        "sigma = 1.0\n",
        "z_0 = mu\n",
        "\n",
        "# Set simulation parameters, draw all idiosyncratic random shocks,\n",
        "# and create empty containers\n",
        "S = 1000 # Set the number of lives to simulate\n",
        "T = int(4160) # Set the number of periods for each simulation\n",
        "np.random.seed(25)\n",
        "eps_mat = sts.norm.rvs(loc=0, scale=sigma, size=(T, S))\n",
        "z_mat = np.zeros((T, S))\n",
        "\n",
        "def nested_loop(rho, mu, z_0, S, T, eps_mat, z_mat):\n",
        "  for s_ind in range(S):\n",
        "    z_tm1 = z_0\n",
        "    for t_ind in range(T):\n",
        "      e_t = eps_mat[t_ind, s_ind]\n",
        "      z_t = rho * z_tm1 + (1 - rho) * mu + e_t\n",
        "      z_mat[t_ind, s_ind] = z_t\n",
        "      z_tm1 = z_t\n",
        "  return z_mat"
      ],
      "metadata": {
        "id": "KrzkpUeFa4q9"
      },
      "execution_count": 26,
      "outputs": []
    },
    {
      "cell_type": "code",
      "execution_count": 31,
      "metadata": {
        "colab": {
          "base_uri": "https://localhost:8080/"
        },
        "id": "u33eQIXsZAiF",
        "outputId": "87d37900-4e3e-46cf-8f56-e6becc6c4d4d"
      },
      "outputs": [
        {
          "output_type": "stream",
          "name": "stdout",
          "text": [
            "CPU times: user 2.88 s, sys: 1.75 ms, total: 2.88 s\n",
            "Wall time: 2.9 s\n"
          ]
        }
      ],
      "source": [
        "%time z_mat = nested_loop(rho, mu, z_0, S, T, eps_mat, z_mat)"
      ]
    },
    {
      "cell_type": "code",
      "source": [
        "z_mat = np.zeros((T, S))\n",
        "\n",
        "cc = CC('test_aot')\n",
        "\n",
        "@cc.export('nested_loop_aot', 'f8[:,:](f8,f8,f8,i8,i8,f8[:,:],f8[:,:])')\n",
        "def nested_loop_aot(rho, mu, z_0, S, T, eps_mat, z_mat):\n",
        "  for s_ind in range(S):\n",
        "    z_tm1 = z_0\n",
        "    for t_ind in range(T):\n",
        "      e_t = eps_mat[t_ind, s_ind]\n",
        "      z_t = rho * z_tm1 + (1 - rho) * mu + e_t\n",
        "      z_mat[t_ind, s_ind] = z_t\n",
        "      z_tm1 = z_t\n",
        "  return z_mat\n",
        "\n",
        "cc.compile()"
      ],
      "metadata": {
        "id": "V1C_nBySa7UE"
      },
      "execution_count": 34,
      "outputs": []
    },
    {
      "cell_type": "code",
      "source": [
        "import test_aot\n",
        "\n",
        "%time z_mat = test_aot.nested_loop_aot(rho, mu, z_0, S, T, eps_mat, z_mat)"
      ],
      "metadata": {
        "colab": {
          "base_uri": "https://localhost:8080/"
        },
        "id": "SDICqM3TauXt",
        "outputId": "8700dbd5-27f7-45a8-85b3-7d04da93b196"
      },
      "execution_count": 36,
      "outputs": [
        {
          "output_type": "stream",
          "name": "stdout",
          "text": [
            "CPU times: user 34.4 ms, sys: 0 ns, total: 34.4 ms\n",
            "Wall time: 34 ms\n"
          ]
        }
      ]
    },
    {
      "cell_type": "markdown",
      "source": [
        "## 2. a)"
      ],
      "metadata": {
        "id": "a92mjevh9B2k"
      }
    },
    {
      "cell_type": "code",
      "source": [
        "rho_vals = list(np.arange(-0.95, 0.95 + 1.9 / 199, 1.9 / 199))\n",
        "\n",
        "np.random.seed(0)\n",
        "eps_mat = sts.norm.rvs(loc=0, scale=sigma, size=(T, S))\n",
        "t_mat = np.zeros(S)\n",
        "t_mat.fill(T)"
      ],
      "metadata": {
        "id": "xkYD1q509Eaa"
      },
      "execution_count": 49,
      "outputs": []
    },
    {
      "cell_type": "code",
      "source": [
        "cc = CC('test_aot2')\n",
        "\n",
        "@cc.export('nested_loop_aot2', 'f8(f8,f8,f8,i8,i8,f8[:,:],f8[:])')\n",
        "def nested_loop_aot2(rho, mu, z_0, S, T, eps_mat, t_mat):\n",
        "  for s_ind in range(S):\n",
        "    z_tm1 = z_0\n",
        "    for t_ind in range(T):\n",
        "      e_t = eps_mat[t_ind, s_ind]\n",
        "      z_t = rho * z_tm1 + (1 - rho) * mu + e_t\n",
        "      if z_t <= 0:\n",
        "        t_mat[s_ind] = t_ind\n",
        "        break\n",
        "      z_tm1 = z_t\n",
        "  return np.mean(t_mat)\n",
        "\n",
        "cc.compile()"
      ],
      "metadata": {
        "id": "WlbwKuPZ_x5p"
      },
      "execution_count": 50,
      "outputs": []
    },
    {
      "cell_type": "code",
      "source": [
        "import test_aot2\n",
        "\n",
        "results = np.zeros(len(rho_vals))\n",
        "\n",
        "for i, rho in enumerate(rho_vals):\n",
        "  results[i] = test_aot2.nested_loop_aot2(rho, mu, z_0, S, T, eps_mat, t_mat)\n",
        "\n",
        "print('The optimal rho value is', rho_vals[np.argmax(results)], 'with an average of',\n",
        "      results[np.argmax(results)], 'periods until the first negative health value.')"
      ],
      "metadata": {
        "colab": {
          "base_uri": "https://localhost:8080/"
        },
        "id": "Bua9HodV_OKO",
        "outputId": "c1c2d0ab-dcff-4fbf-c835-b0dab6fa465f"
      },
      "execution_count": 64,
      "outputs": [
        {
          "output_type": "stream",
          "name": "stdout",
          "text": [
            "The optimal rho value is  -0.00477386934673063 with an average of  741 periods until the first negative health value.\n"
          ]
        }
      ]
    },
    {
      "cell_type": "markdown",
      "source": [
        "##2. b)"
      ],
      "metadata": {
        "id": "IYJMESKaE25P"
      }
    },
    {
      "cell_type": "code",
      "source": [
        "plt.plot(rho_vals, results)\n",
        "plt.xlabel('Rho')\n",
        "plt.ylabel('Average number of periods \\n until first negative health value')\n",
        "plt.show()"
      ],
      "metadata": {
        "colab": {
          "base_uri": "https://localhost:8080/",
          "height": 279
        },
        "id": "Tck3uSHdE1kL",
        "outputId": "bfd9314d-3894-4fff-9a4d-4f80ca4fd75a"
      },
      "execution_count": 62,
      "outputs": [
        {
          "output_type": "display_data",
          "data": {
            "text/plain": [
              "<Figure size 432x288 with 1 Axes>"
            ],
            "image/png": "[encoded data removed]"
          },
          "metadata": {
            "needs_background": "light"
          }
        }
      ]
    },
    {
      "cell_type": "markdown",
      "source": [
        ""
      ],
      "metadata": {
        "id": "WXNXOJiXH4zb"
      }
    },
    {
      "cell_type": "code",
      "source": [
        ""
      ],
      "metadata": {
        "id": "_V3ZnZEQF7Mp"
      },
      "execution_count": null,
      "outputs": []
    }
  ]
}